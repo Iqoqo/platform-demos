{
 "cells": [
  {
   "cell_type": "code",
   "execution_count": 2,
   "metadata": {},
   "outputs": [],
   "source": [
    "import os\n",
    "import sys\n",
    "import disco\n",
    "import cv2\n",
    "from pathlib import Path\n",
    "from tools import split_video, join_videos, proc_image, proc_video, get_fid\n",
    "from tools import get_common_file_ids, get_run_fid,make_empty_folder\n",
    "from IPython.display import Video, Image\n",
    "import tqdm.notebook as tqdm"
   ]
  },
  {
   "cell_type": "code",
   "execution_count": 3,
   "metadata": {},
   "outputs": [],
   "source": [
    "parts=list(Path('./tmp_split').glob(\"*.mp4\"))\n"
   ]
  },
  {
   "cell_type": "code",
   "execution_count": 4,
   "metadata": {},
   "outputs": [
    {
     "data": {
      "text/plain": [
       "PosixPath('local_res')"
      ]
     },
     "execution_count": 4,
     "metadata": {},
     "output_type": "execute_result"
    }
   ],
   "source": [
    "out_p=Path('./local_res')\n",
    "make_empty_folder(out_p)"
   ]
  },
  {
   "cell_type": "code",
   "execution_count": 5,
   "metadata": {},
   "outputs": [
    {
     "data": {
      "application/vnd.jupyter.widget-view+json": {
       "model_id": "09a10a5141bd4ac481708138d2ee9071",
       "version_major": 2,
       "version_minor": 0
      },
      "text/plain": [
       "HBox(children=(IntProgress(value=0, max=29), HTML(value='')))"
      ]
     },
     "metadata": {},
     "output_type": "display_data"
    },
    {
     "name": "stdout",
     "output_type": "stream",
     "text": [
      "Processed Frames:  320\n",
      "Exported to  local_res/split007.mp4\n",
      "Processed Frames:  320\n",
      "Exported to  local_res/split013.mp4\n",
      "Processed Frames:  312\n",
      "Exported to  local_res/split012.mp4\n",
      "Processed Frames:  304\n",
      "Exported to  local_res/split006.mp4\n",
      "Processed Frames:  316\n",
      "Exported to  local_res/split010.mp4\n",
      "Processed Frames:  293\n",
      "Exported to  local_res/split004.mp4\n",
      "Processed Frames:  324\n",
      "Exported to  local_res/split005.mp4\n",
      "Processed Frames:  280\n",
      "Exported to  local_res/split011.mp4\n",
      "Processed Frames:  300\n",
      "Exported to  local_res/split015.mp4\n",
      "Processed Frames:  432\n",
      "Exported to  local_res/split001.mp4\n",
      "Processed Frames:  304\n",
      "Exported to  local_res/split000.mp4\n",
      "Processed Frames:  320\n",
      "Exported to  local_res/split014.mp4\n",
      "Processed Frames:  135\n",
      "Exported to  local_res/split028.mp4\n",
      "Processed Frames:  310\n",
      "Exported to  local_res/split002.mp4\n",
      "Processed Frames:  324\n",
      "Exported to  local_res/split016.mp4\n",
      "Processed Frames:  320\n",
      "Exported to  local_res/split017.mp4\n",
      "Processed Frames:  161\n",
      "Exported to  local_res/split003.mp4\n",
      "Processed Frames:  312\n",
      "Exported to  local_res/split026.mp4\n",
      "Processed Frames:  311\n",
      "Exported to  local_res/split027.mp4\n",
      "Processed Frames:  305\n",
      "Exported to  local_res/split025.mp4\n",
      "Processed Frames:  315\n",
      "Exported to  local_res/split019.mp4\n",
      "Processed Frames:  309\n",
      "Exported to  local_res/split018.mp4\n",
      "Processed Frames:  320\n",
      "Exported to  local_res/split024.mp4\n",
      "Processed Frames:  272\n",
      "Exported to  local_res/split008.mp4\n",
      "Processed Frames:  155\n",
      "Exported to  local_res/split020.mp4\n",
      "Processed Frames:  325\n",
      "Exported to  local_res/split021.mp4\n",
      "Processed Frames:  308\n",
      "Exported to  local_res/split009.mp4\n",
      "Processed Frames:  320\n",
      "Exported to  local_res/split023.mp4\n",
      "Processed Frames:  320\n",
      "Exported to  local_res/split022.mp4\n",
      "\n",
      "CPU times: user 7h 49min 38s, sys: 2min 20s, total: 7h 51min 59s\n",
      "Wall time: 54min 13s\n"
     ]
    }
   ],
   "source": [
    "%%time\n",
    "for p in tqdm.tqdm(parts):\n",
    "    res = out_p / p.name\n",
    "    proc_video(p, res)\n"
   ]
  },
  {
   "cell_type": "code",
   "execution_count": 6,
   "metadata": {},
   "outputs": [
    {
     "data": {
      "text/html": [
       "<video src=\"./local.mp4\" controls  width=\"600\" >\n",
       "      Your browser does not support the <code>video</code> element.\n",
       "    </video>"
      ],
      "text/plain": [
       "<IPython.core.display.Video object>"
      ]
     },
     "execution_count": 6,
     "metadata": {},
     "output_type": "execute_result"
    }
   ],
   "source": [
    "join_videos(Path(out_p) ,Path('./local.mp4'))\n",
    "Video('./local.mp4', width=600)"
   ]
  },
  {
   "cell_type": "code",
   "execution_count": null,
   "metadata": {},
   "outputs": [],
   "source": []
  }
 ],
 "metadata": {
  "kernelspec": {
   "display_name": "Python 3",
   "language": "python",
   "name": "python3"
  },
  "language_info": {
   "codemirror_mode": {
    "name": "ipython",
    "version": 3
   },
   "file_extension": ".py",
   "mimetype": "text/x-python",
   "name": "python",
   "nbconvert_exporter": "python",
   "pygments_lexer": "ipython3",
   "version": "3.7.3"
  }
 },
 "nbformat": 4,
 "nbformat_minor": 2
}
